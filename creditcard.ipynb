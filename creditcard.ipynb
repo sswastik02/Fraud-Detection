{
 "cells": [
  {
   "cell_type": "code",
   "execution_count": 1,
   "metadata": {},
   "outputs": [],
   "source": [
    "import numpy as np\n",
    "import pandas as pd\n",
    "from sklearn.model_selection import train_test_split\n",
    "from sklearn.linear_model import LogisticRegression\n",
    "from sklearn.metrics import accuracy_score"
   ]
  },
  {
   "cell_type": "code",
   "execution_count": 2,
   "metadata": {},
   "outputs": [],
   "source": [
    "df = pd.read_csv('creditcard-fraud.csv')"
   ]
  },
  {
   "cell_type": "code",
   "execution_count": 3,
   "metadata": {},
   "outputs": [],
   "source": [
    "dataset = df.values"
   ]
  },
  {
   "cell_type": "code",
   "execution_count": 5,
   "metadata": {},
   "outputs": [],
   "source": [
    "X = dataset[:,1:10]"
   ]
  },
  {
   "cell_type": "code",
   "execution_count": 6,
   "metadata": {},
   "outputs": [],
   "source": [
    "Y = dataset[:,10]"
   ]
  },
  {
   "cell_type": "code",
   "execution_count": 7,
   "metadata": {},
   "outputs": [],
   "source": [
    "from sklearn import preprocessing"
   ]
  },
  {
   "cell_type": "code",
   "execution_count": 8,
   "metadata": {},
   "outputs": [],
   "source": [
    "min_max_scaler = preprocessing.MinMaxScaler()\n",
    "X_scale = min_max_scaler.fit_transform(X)"
   ]
  },
  {
   "cell_type": "code",
   "execution_count": 9,
   "metadata": {},
   "outputs": [],
   "source": [
    "X_train, X_val_and_test, Y_train, Y_val_and_test = train_test_split(X_scale, Y, test_size=0.3)"
   ]
  },
  {
   "cell_type": "code",
   "execution_count": 10,
   "metadata": {},
   "outputs": [],
   "source": [
    "X_val, X_test, Y_val, Y_test = train_test_split(X_val_and_test, Y_val_and_test, test_size=0.5)"
   ]
  },
  {
   "cell_type": "code",
   "execution_count": 12,
   "metadata": {},
   "outputs": [],
   "source": [
    "from keras.models import Sequential\n",
    "from keras.layers import Dense"
   ]
  },
  {
   "cell_type": "code",
   "execution_count": 17,
   "metadata": {},
   "outputs": [],
   "source": [
    "model = Sequential([\n",
    "    Dense(32, activation='relu', input_shape=(9,)),\n",
    "    Dense(32, activation='relu'),\n",
    "    Dense(1, activation='sigmoid'),\n",
    "])"
   ]
  },
  {
   "cell_type": "code",
   "execution_count": 18,
   "metadata": {},
   "outputs": [],
   "source": [
    "model.compile(optimizer='sgd',\n",
    "              loss='binary_crossentropy',\n",
    "              metrics=['accuracy'])"
   ]
  },
  {
   "cell_type": "code",
   "execution_count": 19,
   "metadata": {},
   "outputs": [
    {
     "name": "stdout",
     "output_type": "stream",
     "text": [
      "Epoch 1/100\n",
      "68/68 [==============================] - 1s 8ms/step - loss: 0.6210 - accuracy: 0.8411 - val_loss: 0.5497 - val_accuracy: 0.8633\n",
      "Epoch 2/100\n",
      "68/68 [==============================] - 0s 3ms/step - loss: 0.5161 - accuracy: 0.8494 - val_loss: 0.4660 - val_accuracy: 0.8633\n",
      "Epoch 3/100\n",
      "68/68 [==============================] - 0s 3ms/step - loss: 0.4521 - accuracy: 0.8494 - val_loss: 0.4111 - val_accuracy: 0.8633\n",
      "Epoch 4/100\n",
      "68/68 [==============================] - 0s 3ms/step - loss: 0.4080 - accuracy: 0.8494 - val_loss: 0.3723 - val_accuracy: 0.8633\n",
      "Epoch 5/100\n",
      "68/68 [==============================] - 0s 3ms/step - loss: 0.3744 - accuracy: 0.8494 - val_loss: 0.3410 - val_accuracy: 0.8633\n",
      "Epoch 6/100\n",
      "68/68 [==============================] - 0s 3ms/step - loss: 0.3456 - accuracy: 0.8494 - val_loss: 0.3141 - val_accuracy: 0.8633\n",
      "Epoch 7/100\n",
      "68/68 [==============================] - 0s 3ms/step - loss: 0.3195 - accuracy: 0.8513 - val_loss: 0.2899 - val_accuracy: 0.8720\n",
      "Epoch 8/100\n",
      "68/68 [==============================] - 0s 3ms/step - loss: 0.2959 - accuracy: 0.8704 - val_loss: 0.2687 - val_accuracy: 0.9132\n",
      "Epoch 9/100\n",
      "68/68 [==============================] - 0s 3ms/step - loss: 0.2751 - accuracy: 0.9159 - val_loss: 0.2499 - val_accuracy: 0.9262\n",
      "Epoch 10/100\n",
      "68/68 [==============================] - 0s 3ms/step - loss: 0.2567 - accuracy: 0.9215 - val_loss: 0.2336 - val_accuracy: 0.9284\n",
      "Epoch 11/100\n",
      "68/68 [==============================] - 0s 3ms/step - loss: 0.2409 - accuracy: 0.9257 - val_loss: 0.2196 - val_accuracy: 0.9284\n",
      "Epoch 12/100\n",
      "68/68 [==============================] - 0s 3ms/step - loss: 0.2273 - accuracy: 0.9280 - val_loss: 0.2078 - val_accuracy: 0.9262\n",
      "Epoch 13/100\n",
      "68/68 [==============================] - 0s 3ms/step - loss: 0.2159 - accuracy: 0.9280 - val_loss: 0.1977 - val_accuracy: 0.9284\n",
      "Epoch 14/100\n",
      "68/68 [==============================] - 0s 3ms/step - loss: 0.2060 - accuracy: 0.9303 - val_loss: 0.1890 - val_accuracy: 0.9284\n",
      "Epoch 15/100\n",
      "68/68 [==============================] - 0s 3ms/step - loss: 0.1976 - accuracy: 0.9308 - val_loss: 0.1816 - val_accuracy: 0.9284\n",
      "Epoch 16/100\n",
      "68/68 [==============================] - 0s 3ms/step - loss: 0.1903 - accuracy: 0.9340 - val_loss: 0.1751 - val_accuracy: 0.9306\n",
      "Epoch 17/100\n",
      "68/68 [==============================] - 0s 3ms/step - loss: 0.1840 - accuracy: 0.9387 - val_loss: 0.1695 - val_accuracy: 0.9414\n",
      "Epoch 18/100\n",
      "68/68 [==============================] - 0s 3ms/step - loss: 0.1785 - accuracy: 0.9405 - val_loss: 0.1643 - val_accuracy: 0.9414\n",
      "Epoch 19/100\n",
      "68/68 [==============================] - 0s 3ms/step - loss: 0.1735 - accuracy: 0.9405 - val_loss: 0.1598 - val_accuracy: 0.9414\n",
      "Epoch 20/100\n",
      "68/68 [==============================] - 0s 3ms/step - loss: 0.1694 - accuracy: 0.9419 - val_loss: 0.1558 - val_accuracy: 0.9414\n",
      "Epoch 21/100\n",
      "68/68 [==============================] - 0s 3ms/step - loss: 0.1655 - accuracy: 0.9438 - val_loss: 0.1522 - val_accuracy: 0.9414\n",
      "Epoch 22/100\n",
      "68/68 [==============================] - 0s 3ms/step - loss: 0.1621 - accuracy: 0.9438 - val_loss: 0.1489 - val_accuracy: 0.9414\n",
      "Epoch 23/100\n",
      "68/68 [==============================] - 0s 3ms/step - loss: 0.1589 - accuracy: 0.9442 - val_loss: 0.1458 - val_accuracy: 0.9436\n",
      "Epoch 24/100\n",
      "68/68 [==============================] - 0s 3ms/step - loss: 0.1559 - accuracy: 0.9442 - val_loss: 0.1429 - val_accuracy: 0.9436\n",
      "Epoch 25/100\n",
      "68/68 [==============================] - 0s 3ms/step - loss: 0.1532 - accuracy: 0.9447 - val_loss: 0.1403 - val_accuracy: 0.9436\n",
      "Epoch 26/100\n",
      "68/68 [==============================] - 0s 3ms/step - loss: 0.1506 - accuracy: 0.9452 - val_loss: 0.1380 - val_accuracy: 0.9436\n",
      "Epoch 27/100\n",
      "68/68 [==============================] - 0s 3ms/step - loss: 0.1482 - accuracy: 0.9452 - val_loss: 0.1355 - val_accuracy: 0.9436\n",
      "Epoch 28/100\n",
      "68/68 [==============================] - 0s 3ms/step - loss: 0.1459 - accuracy: 0.9452 - val_loss: 0.1332 - val_accuracy: 0.9458\n",
      "Epoch 29/100\n",
      "68/68 [==============================] - 0s 3ms/step - loss: 0.1436 - accuracy: 0.9456 - val_loss: 0.1313 - val_accuracy: 0.9436\n",
      "Epoch 30/100\n",
      "68/68 [==============================] - 0s 3ms/step - loss: 0.1415 - accuracy: 0.9452 - val_loss: 0.1294 - val_accuracy: 0.9436\n",
      "Epoch 31/100\n",
      "68/68 [==============================] - 0s 3ms/step - loss: 0.1396 - accuracy: 0.9461 - val_loss: 0.1274 - val_accuracy: 0.9479\n",
      "Epoch 32/100\n",
      "68/68 [==============================] - 0s 3ms/step - loss: 0.1375 - accuracy: 0.9466 - val_loss: 0.1255 - val_accuracy: 0.9479\n",
      "Epoch 33/100\n",
      "68/68 [==============================] - 0s 3ms/step - loss: 0.1356 - accuracy: 0.9484 - val_loss: 0.1236 - val_accuracy: 0.9479\n",
      "Epoch 34/100\n",
      "68/68 [==============================] - 0s 3ms/step - loss: 0.1335 - accuracy: 0.9493 - val_loss: 0.1218 - val_accuracy: 0.9479\n",
      "Epoch 35/100\n",
      "68/68 [==============================] - 0s 3ms/step - loss: 0.1318 - accuracy: 0.9493 - val_loss: 0.1198 - val_accuracy: 0.9479\n",
      "Epoch 36/100\n",
      "68/68 [==============================] - 0s 3ms/step - loss: 0.1299 - accuracy: 0.9507 - val_loss: 0.1181 - val_accuracy: 0.9523\n",
      "Epoch 37/100\n",
      "68/68 [==============================] - 0s 3ms/step - loss: 0.1281 - accuracy: 0.9535 - val_loss: 0.1165 - val_accuracy: 0.9523\n",
      "Epoch 38/100\n",
      "68/68 [==============================] - 0s 3ms/step - loss: 0.1263 - accuracy: 0.9535 - val_loss: 0.1147 - val_accuracy: 0.9544\n",
      "Epoch 39/100\n",
      "68/68 [==============================] - 0s 3ms/step - loss: 0.1245 - accuracy: 0.9535 - val_loss: 0.1130 - val_accuracy: 0.9544\n",
      "Epoch 40/100\n",
      "68/68 [==============================] - 0s 3ms/step - loss: 0.1228 - accuracy: 0.9554 - val_loss: 0.1114 - val_accuracy: 0.9566\n",
      "Epoch 41/100\n",
      "68/68 [==============================] - 0s 3ms/step - loss: 0.1211 - accuracy: 0.9554 - val_loss: 0.1098 - val_accuracy: 0.9566\n",
      "Epoch 42/100\n",
      "68/68 [==============================] - 0s 3ms/step - loss: 0.1193 - accuracy: 0.9549 - val_loss: 0.1083 - val_accuracy: 0.9566\n",
      "Epoch 43/100\n",
      "68/68 [==============================] - 0s 3ms/step - loss: 0.1177 - accuracy: 0.9563 - val_loss: 0.1070 - val_accuracy: 0.9566\n",
      "Epoch 44/100\n",
      "68/68 [==============================] - 0s 3ms/step - loss: 0.1161 - accuracy: 0.9563 - val_loss: 0.1055 - val_accuracy: 0.9566\n",
      "Epoch 45/100\n",
      "68/68 [==============================] - 0s 3ms/step - loss: 0.1146 - accuracy: 0.9563 - val_loss: 0.1040 - val_accuracy: 0.9566\n",
      "Epoch 46/100\n",
      "68/68 [==============================] - 0s 3ms/step - loss: 0.1129 - accuracy: 0.9577 - val_loss: 0.1027 - val_accuracy: 0.9566\n",
      "Epoch 47/100\n",
      "68/68 [==============================] - 0s 3ms/step - loss: 0.1113 - accuracy: 0.9582 - val_loss: 0.1014 - val_accuracy: 0.9566\n",
      "Epoch 48/100\n",
      "68/68 [==============================] - 0s 3ms/step - loss: 0.1098 - accuracy: 0.9596 - val_loss: 0.1000 - val_accuracy: 0.9566\n",
      "Epoch 49/100\n",
      "68/68 [==============================] - 0s 3ms/step - loss: 0.1083 - accuracy: 0.9591 - val_loss: 0.0987 - val_accuracy: 0.9566\n",
      "Epoch 50/100\n",
      "68/68 [==============================] - 0s 3ms/step - loss: 0.1068 - accuracy: 0.9596 - val_loss: 0.0975 - val_accuracy: 0.9566\n",
      "Epoch 51/100\n",
      "68/68 [==============================] - 0s 3ms/step - loss: 0.1054 - accuracy: 0.9591 - val_loss: 0.0963 - val_accuracy: 0.9566\n",
      "Epoch 52/100\n",
      "68/68 [==============================] - 0s 3ms/step - loss: 0.1040 - accuracy: 0.9586 - val_loss: 0.0950 - val_accuracy: 0.9566\n",
      "Epoch 53/100\n",
      "68/68 [==============================] - 0s 3ms/step - loss: 0.1027 - accuracy: 0.9596 - val_loss: 0.0938 - val_accuracy: 0.9588\n",
      "Epoch 54/100\n",
      "68/68 [==============================] - 0s 3ms/step - loss: 0.1013 - accuracy: 0.9600 - val_loss: 0.0928 - val_accuracy: 0.9610\n",
      "Epoch 55/100\n",
      "68/68 [==============================] - 0s 3ms/step - loss: 0.1000 - accuracy: 0.9600 - val_loss: 0.0918 - val_accuracy: 0.9610\n",
      "Epoch 56/100\n",
      "68/68 [==============================] - 0s 3ms/step - loss: 0.0986 - accuracy: 0.9591 - val_loss: 0.0908 - val_accuracy: 0.9610\n",
      "Epoch 57/100\n",
      "68/68 [==============================] - 0s 3ms/step - loss: 0.0975 - accuracy: 0.9600 - val_loss: 0.0897 - val_accuracy: 0.9610\n",
      "Epoch 58/100\n",
      "68/68 [==============================] - 0s 3ms/step - loss: 0.0963 - accuracy: 0.9600 - val_loss: 0.0886 - val_accuracy: 0.9610\n"
     ]
    },
    {
     "name": "stdout",
     "output_type": "stream",
     "text": [
      "Epoch 59/100\n",
      "68/68 [==============================] - 0s 3ms/step - loss: 0.0951 - accuracy: 0.9610 - val_loss: 0.0877 - val_accuracy: 0.9610\n",
      "Epoch 60/100\n",
      "68/68 [==============================] - 0s 3ms/step - loss: 0.0940 - accuracy: 0.9624 - val_loss: 0.0867 - val_accuracy: 0.9631\n",
      "Epoch 61/100\n",
      "68/68 [==============================] - 0s 3ms/step - loss: 0.0929 - accuracy: 0.9624 - val_loss: 0.0858 - val_accuracy: 0.9631\n",
      "Epoch 62/100\n",
      "68/68 [==============================] - 0s 3ms/step - loss: 0.0919 - accuracy: 0.9628 - val_loss: 0.0849 - val_accuracy: 0.9631\n",
      "Epoch 63/100\n",
      "68/68 [==============================] - 0s 3ms/step - loss: 0.0907 - accuracy: 0.9624 - val_loss: 0.0841 - val_accuracy: 0.9631\n",
      "Epoch 64/100\n",
      "68/68 [==============================] - 0s 3ms/step - loss: 0.0898 - accuracy: 0.9633 - val_loss: 0.0834 - val_accuracy: 0.9631\n",
      "Epoch 65/100\n",
      "68/68 [==============================] - 0s 3ms/step - loss: 0.0889 - accuracy: 0.9633 - val_loss: 0.0826 - val_accuracy: 0.9631\n",
      "Epoch 66/100\n",
      "68/68 [==============================] - 0s 3ms/step - loss: 0.0880 - accuracy: 0.9638 - val_loss: 0.0819 - val_accuracy: 0.9631\n",
      "Epoch 67/100\n",
      "68/68 [==============================] - 0s 3ms/step - loss: 0.0870 - accuracy: 0.9642 - val_loss: 0.0812 - val_accuracy: 0.9631\n",
      "Epoch 68/100\n",
      "68/68 [==============================] - 0s 3ms/step - loss: 0.0862 - accuracy: 0.9642 - val_loss: 0.0807 - val_accuracy: 0.9631\n",
      "Epoch 69/100\n",
      "68/68 [==============================] - 0s 3ms/step - loss: 0.0853 - accuracy: 0.9651 - val_loss: 0.0800 - val_accuracy: 0.9631\n",
      "Epoch 70/100\n",
      "68/68 [==============================] - 0s 3ms/step - loss: 0.0846 - accuracy: 0.9651 - val_loss: 0.0792 - val_accuracy: 0.9631\n",
      "Epoch 71/100\n",
      "68/68 [==============================] - 0s 3ms/step - loss: 0.0838 - accuracy: 0.9651 - val_loss: 0.0787 - val_accuracy: 0.9631\n",
      "Epoch 72/100\n",
      "68/68 [==============================] - 0s 3ms/step - loss: 0.0831 - accuracy: 0.9656 - val_loss: 0.0782 - val_accuracy: 0.9653\n",
      "Epoch 73/100\n",
      "68/68 [==============================] - 0s 3ms/step - loss: 0.0824 - accuracy: 0.9651 - val_loss: 0.0776 - val_accuracy: 0.9653\n",
      "Epoch 74/100\n",
      "68/68 [==============================] - 0s 3ms/step - loss: 0.0817 - accuracy: 0.9665 - val_loss: 0.0775 - val_accuracy: 0.9653\n",
      "Epoch 75/100\n",
      "68/68 [==============================] - 0s 3ms/step - loss: 0.0810 - accuracy: 0.9670 - val_loss: 0.0767 - val_accuracy: 0.9675\n",
      "Epoch 76/100\n",
      "68/68 [==============================] - 0s 3ms/step - loss: 0.0804 - accuracy: 0.9670 - val_loss: 0.0763 - val_accuracy: 0.9675\n",
      "Epoch 77/100\n",
      "68/68 [==============================] - 0s 3ms/step - loss: 0.0798 - accuracy: 0.9679 - val_loss: 0.0762 - val_accuracy: 0.9675\n",
      "Epoch 78/100\n",
      "68/68 [==============================] - 0s 3ms/step - loss: 0.0791 - accuracy: 0.9665 - val_loss: 0.0755 - val_accuracy: 0.9675\n",
      "Epoch 79/100\n",
      "68/68 [==============================] - 0s 3ms/step - loss: 0.0784 - accuracy: 0.9679 - val_loss: 0.0751 - val_accuracy: 0.9675\n",
      "Epoch 80/100\n",
      "68/68 [==============================] - 0s 3ms/step - loss: 0.0779 - accuracy: 0.9675 - val_loss: 0.0746 - val_accuracy: 0.9675\n",
      "Epoch 81/100\n",
      "68/68 [==============================] - 0s 3ms/step - loss: 0.0776 - accuracy: 0.9684 - val_loss: 0.0743 - val_accuracy: 0.9675\n",
      "Epoch 82/100\n",
      "68/68 [==============================] - 0s 3ms/step - loss: 0.0768 - accuracy: 0.9679 - val_loss: 0.0741 - val_accuracy: 0.9696\n",
      "Epoch 83/100\n",
      "68/68 [==============================] - 0s 3ms/step - loss: 0.0763 - accuracy: 0.9698 - val_loss: 0.0736 - val_accuracy: 0.9696\n",
      "Epoch 84/100\n",
      "68/68 [==============================] - 0s 3ms/step - loss: 0.0759 - accuracy: 0.9717 - val_loss: 0.0732 - val_accuracy: 0.9675\n",
      "Epoch 85/100\n",
      "68/68 [==============================] - 0s 3ms/step - loss: 0.0755 - accuracy: 0.9698 - val_loss: 0.0729 - val_accuracy: 0.9718\n",
      "Epoch 86/100\n",
      "68/68 [==============================] - 0s 3ms/step - loss: 0.0749 - accuracy: 0.9717 - val_loss: 0.0726 - val_accuracy: 0.9696\n",
      "Epoch 87/100\n",
      "68/68 [==============================] - 0s 3ms/step - loss: 0.0745 - accuracy: 0.9712 - val_loss: 0.0723 - val_accuracy: 0.9696\n",
      "Epoch 88/100\n",
      "68/68 [==============================] - 0s 3ms/step - loss: 0.0741 - accuracy: 0.9698 - val_loss: 0.0720 - val_accuracy: 0.9718\n",
      "Epoch 89/100\n",
      "68/68 [==============================] - 0s 3ms/step - loss: 0.0737 - accuracy: 0.9707 - val_loss: 0.0719 - val_accuracy: 0.9718\n",
      "Epoch 90/100\n",
      "68/68 [==============================] - 0s 3ms/step - loss: 0.0733 - accuracy: 0.9717 - val_loss: 0.0715 - val_accuracy: 0.9718\n",
      "Epoch 91/100\n",
      "68/68 [==============================] - 0s 3ms/step - loss: 0.0728 - accuracy: 0.9712 - val_loss: 0.0718 - val_accuracy: 0.9696\n",
      "Epoch 92/100\n",
      "68/68 [==============================] - 0s 3ms/step - loss: 0.0723 - accuracy: 0.9735 - val_loss: 0.0711 - val_accuracy: 0.9718\n",
      "Epoch 93/100\n",
      "68/68 [==============================] - 0s 3ms/step - loss: 0.0721 - accuracy: 0.9721 - val_loss: 0.0709 - val_accuracy: 0.9696\n",
      "Epoch 94/100\n",
      "68/68 [==============================] - 0s 3ms/step - loss: 0.0716 - accuracy: 0.9717 - val_loss: 0.0707 - val_accuracy: 0.9718\n",
      "Epoch 95/100\n",
      "68/68 [==============================] - 0s 3ms/step - loss: 0.0712 - accuracy: 0.9721 - val_loss: 0.0705 - val_accuracy: 0.9696\n",
      "Epoch 96/100\n",
      "68/68 [==============================] - 0s 3ms/step - loss: 0.0709 - accuracy: 0.9721 - val_loss: 0.0701 - val_accuracy: 0.9696\n",
      "Epoch 97/100\n",
      "68/68 [==============================] - 0s 3ms/step - loss: 0.0705 - accuracy: 0.9721 - val_loss: 0.0700 - val_accuracy: 0.9696\n",
      "Epoch 98/100\n",
      "68/68 [==============================] - 0s 3ms/step - loss: 0.0702 - accuracy: 0.9735 - val_loss: 0.0701 - val_accuracy: 0.9696\n",
      "Epoch 99/100\n",
      "68/68 [==============================] - 0s 3ms/step - loss: 0.0698 - accuracy: 0.9730 - val_loss: 0.0696 - val_accuracy: 0.9718\n",
      "Epoch 100/100\n",
      "68/68 [==============================] - 0s 3ms/step - loss: 0.0694 - accuracy: 0.9730 - val_loss: 0.0694 - val_accuracy: 0.9696\n"
     ]
    }
   ],
   "source": [
    "hist = model.fit(X_train, Y_train,\n",
    "          batch_size=32, epochs=100,\n",
    "          validation_data=(X_val, Y_val))"
   ]
  },
  {
   "cell_type": "code",
   "execution_count": 20,
   "metadata": {},
   "outputs": [
    {
     "name": "stdout",
     "output_type": "stream",
     "text": [
      "15/15 [==============================] - 0s 3ms/step - loss: 0.0904 - accuracy: 0.9719\n"
     ]
    },
    {
     "data": {
      "text/plain": [
       "0.9718614816665649"
      ]
     },
     "execution_count": 20,
     "metadata": {},
     "output_type": "execute_result"
    }
   ],
   "source": [
    "model.evaluate(X_test, Y_test)[1]"
   ]
  },
  {
   "cell_type": "code",
   "execution_count": 21,
   "metadata": {},
   "outputs": [],
   "source": [
    "import matplotlib.pyplot as plt"
   ]
  },
  {
   "cell_type": "code",
   "execution_count": 22,
   "metadata": {},
   "outputs": [
    {
     "data": {
      "image/png": "[encoded data removed]",
      "text/plain": [
       "<Figure size 432x288 with 1 Axes>"
      ]
     },
     "metadata": {
      "needs_background": "light"
     },
     "output_type": "display_data"
    }
   ],
   "source": [
    "plt.plot(hist.history['loss'])\n",
    "plt.plot(hist.history['val_loss'])\n",
    "plt.title('Model loss')\n",
    "plt.ylabel('Loss')\n",
    "plt.xlabel('Epoch')\n",
    "plt.legend(['Train', 'Val'], loc='upper right')\n",
    "plt.show()"
   ]
  },
  {
   "cell_type": "code",
   "execution_count": 23,
   "metadata": {},
   "outputs": [
    {
     "data": {
      "image/png": "[encoded data removed]",
      "text/plain": [
       "<Figure size 432x288 with 1 Axes>"
      ]
     },
     "metadata": {
      "needs_background": "light"
     },
     "output_type": "display_data"
    }
   ],
   "source": [
    "plt.plot(hist.history['accuracy'])\n",
    "plt.plot(hist.history['val_accuracy'])\n",
    "plt.title('Model accuracy')\n",
    "plt.ylabel('Accuracy')\n",
    "plt.xlabel('Epoch')\n",
    "plt.legend(['Train', 'Val'], loc='lower right')\n",
    "plt.show()"
   ]
  },
  {
   "cell_type": "code",
   "execution_count": null,
   "metadata": {},
   "outputs": [],
   "source": []
  }
 ],
 "metadata": {
  "kernelspec": {
   "display_name": "Python 3",
   "language": "python",
   "name": "python3"
  },
  "language_info": {
   "codemirror_mode": {
    "name": "ipython",
    "version": 3
   },
   "file_extension": ".py",
   "mimetype": "text/x-python",
   "name": "python",
   "nbconvert_exporter": "python",
   "pygments_lexer": "ipython3",
   "version": "3.8.5"
  }
 },
 "nbformat": 4,
 "nbformat_minor": 4
}
