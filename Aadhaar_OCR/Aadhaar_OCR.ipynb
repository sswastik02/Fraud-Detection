{
 "cells": [
  {
   "cell_type": "code",
   "execution_count": null,
   "metadata": {
    "id": "3ip2b7spdXYA"
   },
   "outputs": [],
   "source": [
    "# Mount Google Drive if working on Colab\n",
    "\n",
    "#from google.colab import drive\n",
    "#drive.mount(\"/drive\")"
   ]
  },
  {
   "cell_type": "code",
   "execution_count": 4,
   "metadata": {
    "id": "1j0qmCHvcXqI"
   },
   "outputs": [
    {
     "name": "stdout",
     "output_type": "stream",
     "text": [
      "········\n"
     ]
    },
    {
     "name": "stderr",
     "output_type": "stream",
     "text": [
      "[sudo] password for epshita: \n",
      "WARNING: apt does not have a stable CLI interface. Use with caution in scripts.\n",
      "\n"
     ]
    },
    {
     "name": "stdout",
     "output_type": "stream",
     "text": [
      "Reading package lists...\n",
      "Building dependency tree...\n",
      "Reading state information...\n",
      "tesseract-ocr is already the newest version (4.1.1-2.1build1).\n",
      "0 upgraded, 0 newly installed, 0 to remove and 1 not upgraded.\n"
     ]
    },
    {
     "name": "stderr",
     "output_type": "stream",
     "text": [
      "[sudo] password for epshita: "
     ]
    },
    {
     "name": "stdout",
     "output_type": "stream",
     "text": [
      "Reading package lists...\n",
      "Building dependency tree...\n",
      "Reading state information...\n",
      "poppler-utils is already the newest version (22.02.0-2).\n",
      "0 upgraded, 0 newly installed, 0 to remove and 1 not upgraded.\n",
      "Requirement already satisfied: tensorflow in /home/epshita/anaconda3/lib/python3.9/site-packages (2.9.1)\n",
      "Requirement already satisfied: google-pasta>=0.1.1 in /home/epshita/anaconda3/lib/python3.9/site-packages (from tensorflow) (0.2.0)\n",
      "Requirement already satisfied: absl-py>=1.0.0 in /home/epshita/anaconda3/lib/python3.9/site-packages (from tensorflow) (1.1.0)\n",
      "Requirement already satisfied: libclang>=13.0.0 in /home/epshita/anaconda3/lib/python3.9/site-packages (from tensorflow) (14.0.1)\n",
      "Requirement already satisfied: astunparse>=1.6.0 in /home/epshita/anaconda3/lib/python3.9/site-packages (from tensorflow) (1.6.3)\n",
      "Requirement already satisfied: packaging in /home/epshita/anaconda3/lib/python3.9/site-packages (from tensorflow) (21.3)\n",
      "Requirement already satisfied: protobuf<3.20,>=3.9.2 in /home/epshita/anaconda3/lib/python3.9/site-packages (from tensorflow) (3.19.4)\n",
      "Requirement already satisfied: tensorflow-estimator<2.10.0,>=2.9.0rc0 in /home/epshita/anaconda3/lib/python3.9/site-packages (from tensorflow) (2.9.0)\n",
      "Requirement already satisfied: h5py>=2.9.0 in /home/epshita/anaconda3/lib/python3.9/site-packages (from tensorflow) (3.3.0)\n",
      "Requirement already satisfied: typing-extensions>=3.6.6 in /home/epshita/anaconda3/lib/python3.9/site-packages (from tensorflow) (3.10.0.2)\n",
      "Requirement already satisfied: grpcio<2.0,>=1.24.3 in /home/epshita/anaconda3/lib/python3.9/site-packages (from tensorflow) (1.47.0)\n",
      "Requirement already satisfied: setuptools in /home/epshita/anaconda3/lib/python3.9/site-packages (from tensorflow) (58.0.4)\n",
      "Requirement already satisfied: tensorflow-io-gcs-filesystem>=0.23.1 in /home/epshita/anaconda3/lib/python3.9/site-packages (from tensorflow) (0.26.0)\n",
      "Requirement already satisfied: termcolor>=1.1.0 in /home/epshita/anaconda3/lib/python3.9/site-packages (from tensorflow) (1.1.0)\n",
      "Requirement already satisfied: opt-einsum>=2.3.2 in /home/epshita/anaconda3/lib/python3.9/site-packages (from tensorflow) (3.3.0)\n",
      "Requirement already satisfied: keras-preprocessing>=1.1.1 in /home/epshita/anaconda3/lib/python3.9/site-packages (from tensorflow) (1.1.2)\n",
      "Requirement already satisfied: gast<=0.4.0,>=0.2.1 in /home/epshita/anaconda3/lib/python3.9/site-packages (from tensorflow) (0.4.0)\n",
      "Requirement already satisfied: numpy>=1.20 in /home/epshita/anaconda3/lib/python3.9/site-packages (from tensorflow) (1.20.3)\n",
      "Requirement already satisfied: tensorboard<2.10,>=2.9 in /home/epshita/anaconda3/lib/python3.9/site-packages (from tensorflow) (2.9.1)\n",
      "Requirement already satisfied: keras<2.10.0,>=2.9.0rc0 in /home/epshita/anaconda3/lib/python3.9/site-packages (from tensorflow) (2.9.0)\n",
      "Requirement already satisfied: flatbuffers<2,>=1.12 in /home/epshita/anaconda3/lib/python3.9/site-packages (from tensorflow) (1.12)\n",
      "Requirement already satisfied: six>=1.12.0 in /home/epshita/anaconda3/lib/python3.9/site-packages (from tensorflow) (1.16.0)\n",
      "Requirement already satisfied: wrapt>=1.11.0 in /home/epshita/anaconda3/lib/python3.9/site-packages (from tensorflow) (1.12.1)\n",
      "Requirement already satisfied: wheel<1.0,>=0.23.0 in /home/epshita/anaconda3/lib/python3.9/site-packages (from astunparse>=1.6.0->tensorflow) (0.37.0)\n",
      "Requirement already satisfied: google-auth-oauthlib<0.5,>=0.4.1 in /home/epshita/anaconda3/lib/python3.9/site-packages (from tensorboard<2.10,>=2.9->tensorflow) (0.4.6)\n",
      "Requirement already satisfied: werkzeug>=1.0.1 in /home/epshita/anaconda3/lib/python3.9/site-packages (from tensorboard<2.10,>=2.9->tensorflow) (2.0.2)\n",
      "Requirement already satisfied: markdown>=2.6.8 in /home/epshita/anaconda3/lib/python3.9/site-packages (from tensorboard<2.10,>=2.9->tensorflow) (3.4.1)\n",
      "Requirement already satisfied: requests<3,>=2.21.0 in /home/epshita/anaconda3/lib/python3.9/site-packages (from tensorboard<2.10,>=2.9->tensorflow) (2.26.0)\n",
      "Requirement already satisfied: tensorboard-data-server<0.7.0,>=0.6.0 in /home/epshita/anaconda3/lib/python3.9/site-packages (from tensorboard<2.10,>=2.9->tensorflow) (0.6.1)\n",
      "Requirement already satisfied: tensorboard-plugin-wit>=1.6.0 in /home/epshita/anaconda3/lib/python3.9/site-packages (from tensorboard<2.10,>=2.9->tensorflow) (1.8.1)\n",
      "Requirement already satisfied: google-auth<3,>=1.6.3 in /home/epshita/anaconda3/lib/python3.9/site-packages (from tensorboard<2.10,>=2.9->tensorflow) (2.9.1)\n",
      "Requirement already satisfied: cachetools<6.0,>=2.0.0 in /home/epshita/anaconda3/lib/python3.9/site-packages (from google-auth<3,>=1.6.3->tensorboard<2.10,>=2.9->tensorflow) (5.2.0)\n",
      "Requirement already satisfied: rsa<5,>=3.1.4 in /home/epshita/anaconda3/lib/python3.9/site-packages (from google-auth<3,>=1.6.3->tensorboard<2.10,>=2.9->tensorflow) (4.8)\n",
      "Requirement already satisfied: pyasn1-modules>=0.2.1 in /home/epshita/anaconda3/lib/python3.9/site-packages (from google-auth<3,>=1.6.3->tensorboard<2.10,>=2.9->tensorflow) (0.2.8)\n",
      "Requirement already satisfied: requests-oauthlib>=0.7.0 in /home/epshita/anaconda3/lib/python3.9/site-packages (from google-auth-oauthlib<0.5,>=0.4.1->tensorboard<2.10,>=2.9->tensorflow) (1.3.1)\n",
      "Requirement already satisfied: importlib-metadata>=4.4 in /home/epshita/anaconda3/lib/python3.9/site-packages (from markdown>=2.6.8->tensorboard<2.10,>=2.9->tensorflow) (4.8.1)\n",
      "Requirement already satisfied: zipp>=0.5 in /home/epshita/anaconda3/lib/python3.9/site-packages (from importlib-metadata>=4.4->markdown>=2.6.8->tensorboard<2.10,>=2.9->tensorflow) (3.6.0)\n",
      "Requirement already satisfied: pyasn1<0.5.0,>=0.4.6 in /home/epshita/anaconda3/lib/python3.9/site-packages (from pyasn1-modules>=0.2.1->google-auth<3,>=1.6.3->tensorboard<2.10,>=2.9->tensorflow) (0.4.8)\n",
      "Requirement already satisfied: certifi>=2017.4.17 in /home/epshita/anaconda3/lib/python3.9/site-packages (from requests<3,>=2.21.0->tensorboard<2.10,>=2.9->tensorflow) (2021.10.8)\n",
      "Requirement already satisfied: urllib3<1.27,>=1.21.1 in /home/epshita/anaconda3/lib/python3.9/site-packages (from requests<3,>=2.21.0->tensorboard<2.10,>=2.9->tensorflow) (1.26.7)\n",
      "Requirement already satisfied: charset-normalizer~=2.0.0 in /home/epshita/anaconda3/lib/python3.9/site-packages (from requests<3,>=2.21.0->tensorboard<2.10,>=2.9->tensorflow) (2.0.4)\n",
      "Requirement already satisfied: idna<4,>=2.5 in /home/epshita/anaconda3/lib/python3.9/site-packages (from requests<3,>=2.21.0->tensorboard<2.10,>=2.9->tensorflow) (3.2)\n",
      "Requirement already satisfied: oauthlib>=3.0.0 in /home/epshita/anaconda3/lib/python3.9/site-packages (from requests-oauthlib>=0.7.0->google-auth-oauthlib<0.5,>=0.4.1->tensorboard<2.10,>=2.9->tensorflow) (3.2.0)\n",
      "Requirement already satisfied: pyparsing!=3.0.5,>=2.0.2 in /home/epshita/anaconda3/lib/python3.9/site-packages (from packaging->tensorflow) (3.0.4)\n",
      "Requirement already satisfied: pytesseract in /home/epshita/anaconda3/lib/python3.9/site-packages (0.3.9)\n",
      "Requirement already satisfied: Pillow>=8.0.0 in /home/epshita/anaconda3/lib/python3.9/site-packages (from pytesseract) (9.2.0)\n",
      "Requirement already satisfied: packaging>=21.3 in /home/epshita/anaconda3/lib/python3.9/site-packages (from pytesseract) (21.3)\n",
      "Requirement already satisfied: pyparsing!=3.0.5,>=2.0.2 in /home/epshita/anaconda3/lib/python3.9/site-packages (from packaging>=21.3->pytesseract) (3.0.4)\n",
      "Requirement already satisfied: ISR in /home/epshita/anaconda3/lib/python3.9/site-packages (2.2.0)\n",
      "Requirement already satisfied: pdf2image in /home/epshita/anaconda3/lib/python3.9/site-packages (1.16.0)\n",
      "Requirement already satisfied: pillow in /home/epshita/anaconda3/lib/python3.9/site-packages (from pdf2image) (9.2.0)\n",
      "Requirement already satisfied: img2pdf in /home/epshita/anaconda3/lib/python3.9/site-packages (0.4.4)\n",
      "Requirement already satisfied: pikepdf in /home/epshita/anaconda3/lib/python3.9/site-packages (from img2pdf) (5.4.0)\n",
      "Requirement already satisfied: Pillow in /home/epshita/anaconda3/lib/python3.9/site-packages (from img2pdf) (9.2.0)\n",
      "Requirement already satisfied: packaging in /home/epshita/anaconda3/lib/python3.9/site-packages (from pikepdf->img2pdf) (21.3)\n",
      "Requirement already satisfied: deprecation in /home/epshita/anaconda3/lib/python3.9/site-packages (from pikepdf->img2pdf) (2.1.0)\n",
      "Requirement already satisfied: lxml>=4.0 in /home/epshita/anaconda3/lib/python3.9/site-packages (from pikepdf->img2pdf) (4.6.3)\n",
      "Requirement already satisfied: pyparsing!=3.0.5,>=2.0.2 in /home/epshita/anaconda3/lib/python3.9/site-packages (from packaging->pikepdf->img2pdf) (3.0.4)\n"
     ]
    },
    {
     "name": "stdout",
     "output_type": "stream",
     "text": [
      "Requirement already satisfied: opencv-python in /home/epshita/anaconda3/lib/python3.9/site-packages (4.6.0.66)\n",
      "Requirement already satisfied: numpy>=1.14.5 in /home/epshita/anaconda3/lib/python3.9/site-packages (from opencv-python) (1.20.3)\n",
      "Requirement already satisfied: regex in /home/epshita/anaconda3/lib/python3.9/site-packages (2021.8.3)\n",
      "Requirement already satisfied: Pillow in /home/epshita/anaconda3/lib/python3.9/site-packages (9.2.0)\n"
     ]
    }
   ],
   "source": [
    "# Install Required Libraries from PyPI\n",
    "import getpass\n",
    "import os\n",
    "\n",
    "password = getpass.getpass()\n",
    "command = \"sudo -S apt install tesseract-ocr\" #can be any command but don't forget -S as it enables input from stdin\n",
    "os.system('echo %s | %s' % (password, command))\n",
    "command2 = \"sudo -S apt-get install poppler-utils\"\n",
    "os.system('echo %s | %s' % (password, command2))\n",
    "!pip install tensorflow\n",
    "!pip install pytesseract\n",
    "!pip install ISR --no-deps\n",
    "!pip install pdf2image\n",
    "!pip install img2pdf\n",
    "!pip install opencv-python\n",
    "!pip install regex\n",
    "!pip install -U Pillow"
   ]
  },
  {
   "cell_type": "code",
   "execution_count": 5,
   "metadata": {
    "id": "-_PCWR-ldNrK"
   },
   "outputs": [],
   "source": [
    "# Import required packages\n",
    "\n",
    "import cv2\n",
    "import numpy as np\n",
    "import matplotlib.pyplot as plt\n",
    "import regex as re\n",
    "from PIL import Image\n",
    "import pytesseract as ocr\n",
    "from ISR.models import RRDN\n",
    "#from google.colab.patches import cv2_imshow\n",
    "from pdf2image import convert_from_path\n",
    "import img2pdf"
   ]
  },
  {
   "cell_type": "code",
   "execution_count": 8,
   "metadata": {
    "id": "Y4_qua_Ouze0",
    "scrolled": true
   },
   "outputs": [],
   "source": [
    "# Load Pretrained ESRGAN Model\n",
    "\n",
    "SR_Model = RRDN(weights='gans')"
   ]
  },
  {
   "cell_type": "code",
   "execution_count": 9,
   "metadata": {
    "id": "AbsjAIlPm-9r"
   },
   "outputs": [],
   "source": [
    "# Verhoeff Algorithm\n",
    "\n",
    "multiplication_table = (\n",
    "    (0, 1, 2, 3, 4, 5, 6, 7, 8, 9),\n",
    "    (1, 2, 3, 4, 0, 6, 7, 8, 9, 5),\n",
    "    (2, 3, 4, 0, 1, 7, 8, 9, 5, 6),\n",
    "    (3, 4, 0, 1, 2, 8, 9, 5, 6, 7),\n",
    "    (4, 0, 1, 2, 3, 9, 5, 6, 7, 8),\n",
    "    (5, 9, 8, 7, 6, 0, 4, 3, 2, 1),\n",
    "    (6, 5, 9, 8, 7, 1, 0, 4, 3, 2),\n",
    "    (7, 6, 5, 9, 8, 2, 1, 0, 4, 3),\n",
    "    (8, 7, 6, 5, 9, 3, 2, 1, 0, 4),\n",
    "    (9, 8, 7, 6, 5, 4, 3, 2, 1, 0))\n",
    "\n",
    "permutation_table = (\n",
    "    (0, 1, 2, 3, 4, 5, 6, 7, 8, 9),\n",
    "    (1, 5, 7, 6, 2, 8, 3, 0, 9, 4),\n",
    "    (5, 8, 0, 3, 7, 9, 6, 1, 4, 2),\n",
    "    (8, 9, 1, 6, 0, 4, 3, 5, 2, 7),\n",
    "    (9, 4, 5, 3, 1, 2, 6, 8, 7, 0),\n",
    "    (4, 2, 8, 6, 5, 7, 3, 9, 0, 1),\n",
    "    (2, 7, 9, 3, 8, 0, 6, 4, 1, 5),\n",
    "    (7, 0, 4, 6, 9, 1, 3, 2, 5, 8))\n",
    "\n",
    "def compute_checksum(number):\n",
    "    \n",
    "    \"\"\"Calculate the Verhoeff checksum over the provided number. The checksum\n",
    "    is returned as an int. Valid numbers should have a checksum of 0.\"\"\"\n",
    "    \n",
    "    # transform number list\n",
    "    number = tuple(int(n) for n in reversed(str(number)))\n",
    "    \n",
    "    # calculate checksum\n",
    "    checksum = 0\n",
    "    \n",
    "    for i, n in enumerate(number):\n",
    "        checksum = multiplication_table[checksum][permutation_table[i % 8][n]]\n",
    "    \n",
    "    return checksum"
   ]
  },
  {
   "cell_type": "code",
   "execution_count": 10,
   "metadata": {
    "id": "_wu4NE0gGgx7"
   },
   "outputs": [],
   "source": [
    "# Search Possible UIDs with Bounding Boxes\n",
    "\n",
    "def Regex_Search(bounding_boxes):\n",
    "\n",
    "  possible_UIDs = []\n",
    "  Result = \"\"\n",
    "\n",
    "  for character in range(len(bounding_boxes)):\n",
    "    if len(bounding_boxes[character])!=0:\n",
    "      Result += bounding_boxes[character][0]\n",
    "    else:\n",
    "      Result += '?'\n",
    "\n",
    "  matches = [match.span() for match in re.finditer(r'\\d{12}',Result,overlapped=True)]\n",
    "\n",
    "  for match in matches :\n",
    "\n",
    "    UID = int(Result[match[0]:match[1]])\n",
    "    \n",
    "    if compute_checksum(UID)==0 and UID%10000!=1947:\n",
    "       possible_UIDs.append([UID,match[0]])\n",
    "\n",
    "  possible_UIDs = np.array(possible_UIDs)\n",
    "  return possible_UIDs"
   ]
  },
  {
   "cell_type": "code",
   "execution_count": 11,
   "metadata": {
    "id": "NsqMutr0IfOM"
   },
   "outputs": [],
   "source": [
    "# Mask found UIDs using OpenCV\n",
    "\n",
    "def Mask_UIDs (image_path,possible_UIDs,bounding_boxes,rtype,SR=False,SR_Ratio=[1,1]):\n",
    "\n",
    "  img = cv2.imread(image_path)\n",
    "\n",
    "  if rtype==2:\n",
    "    img = cv2.rotate(img,cv2.ROTATE_90_COUNTERCLOCKWISE)\n",
    "  elif rtype==3:\n",
    "    img = cv2.rotate(img,cv2.ROTATE_180)\n",
    "  elif rtype==4:\n",
    "    img = cv2.rotate(img,cv2.ROTATE_90_CLOCKWISE)\n",
    "\n",
    "  height = img.shape[0]\n",
    "\n",
    "  if SR==True:\n",
    "    height*=SR_Ratio[1]\n",
    "\n",
    "  ########################### MASK EVERY DIGIT INDIVIDUALLY ############################\n",
    "\n",
    "  # for UID in possible_UIDs:\n",
    "\n",
    "  #   for i in range(8):\n",
    "\n",
    "  #     digit = bounding_boxes[UID[1]+i].split()\n",
    "\n",
    "  #     if SR==False:\n",
    "  #       top_left_corner = (int(digit[1]),height-int(digit[4]))\n",
    "  #       bottom_right_corner = (int(digit[3]),height-int(digit[2]))\n",
    "\n",
    "  #     else:\n",
    "  #       top_left_corner = (int(int(digit[1])/SR_Ratio[0]),int((height-int(digit[4]))/SR_Ratio[1]))\n",
    "  #       bottom_right_corner = (int(int(digit[3])/SR_Ratio[0]),int((height-int(digit[2]))/SR_Ratio[1]))\n",
    "\n",
    "  #     img = cv2.rectangle(img,top_left_corner,bottom_right_corner,(0,0,0),-1)\n",
    "\n",
    "  ######################################################################################\n",
    "\n",
    "  for UID in possible_UIDs:\n",
    "\n",
    "    digit1 = bounding_boxes[UID[1]].split()\n",
    "    digit8 = bounding_boxes[UID[1] + 7].split()\n",
    "\n",
    "    h1 = min(height-int(digit1[4]),height-int(digit8[4]))\n",
    "    h2 = max(height-int(digit1[2]),height-int(digit8[2]))\n",
    "\n",
    "    if SR==False:\n",
    "      top_left_corner = (int(digit1[1]),h1)\n",
    "      bottom_right_corner = (int(digit8[3]),h2)\n",
    "\n",
    "    else:\n",
    "      top_left_corner = (int(int(digit1[1])/SR_Ratio[0]),int((h1)/SR_Ratio[1]))\n",
    "      bottom_right_corner = (int(int(digit8[3])/SR_Ratio[0]),int((h2)/SR_Ratio[1]))\n",
    "\n",
    "    img = cv2.rectangle(img,top_left_corner,bottom_right_corner,(0,0,0),-1)\n",
    "\n",
    "  if rtype==2:\n",
    "    img = cv2.rotate(img,cv2.ROTATE_90_CLOCKWISE)\n",
    "  elif rtype==3:\n",
    "    img = cv2.rotate(img,cv2.ROTATE_180)\n",
    "  elif rtype==4:\n",
    "    img = cv2.rotate(img,cv2.ROTATE_90_COUNTERCLOCKWISE)\n",
    "\n",
    "  file_name = image_path.split('/')[-1].split('.')[0]+\"_masked\"+\".\"+image_path.split('.')[-1]\n",
    "  cv2.imwrite(file_name,img)\n",
    "  return file_name"
   ]
  },
  {
   "cell_type": "code",
   "execution_count": 12,
   "metadata": {
    "id": "rrSxsvgY99VW"
   },
   "outputs": [],
   "source": [
    "# Extract, Verify and Mask UIDs\n",
    "\n",
    "def Extract_and_Mask_UIDs (image_path,SR=False,sr_image_path=None,SR_Ratio=[1,1]):\n",
    "\n",
    "  if SR==False:\n",
    "    img = cv2.imread(image_path)\n",
    "  else:\n",
    "    img = cv2.imread(sr_image_path)\n",
    "\n",
    "  gray = cv2.cvtColor(img,cv2.COLOR_BGR2GRAY)\n",
    "\n",
    "  rotations = [[gray,1],\n",
    "               [cv2.rotate(gray,cv2.ROTATE_90_COUNTERCLOCKWISE),2],\n",
    "               [cv2.rotate(gray,cv2.ROTATE_180),3],\n",
    "               [cv2.rotate(gray,cv2.ROTATE_90_CLOCKWISE),4],\n",
    "               [cv2.GaussianBlur(gray,(5,5),0),1],\n",
    "               [cv2.GaussianBlur(cv2.rotate(gray,cv2.ROTATE_90_COUNTERCLOCKWISE),(5,5),0),2],\n",
    "               [cv2.GaussianBlur(cv2.rotate(gray,cv2.ROTATE_180),(5,5),0),3],\n",
    "               [cv2.GaussianBlur(cv2.rotate(gray,cv2.ROTATE_90_CLOCKWISE),(5,5),0),4]]\n",
    "\n",
    "  settings = ('-l eng --oem 3 --psm 11')\n",
    "\n",
    "  for rotation in rotations :\n",
    "    \n",
    "    cv2.imwrite('rotated_grayscale.png',rotation[0])\n",
    "    bounding_boxes = ocr.image_to_boxes(Image.open('rotated_grayscale.png'),config=settings).split(\" 0\\n\")\n",
    "\n",
    "    possible_UIDs = Regex_Search(bounding_boxes)\n",
    "\n",
    "    if len(possible_UIDs)==0:\n",
    "      continue\n",
    "    else:\n",
    "\n",
    "      if SR==False:\n",
    "        masked_img = Mask_UIDs (image_path,possible_UIDs,bounding_boxes,rotation[1])\n",
    "      else:\n",
    "        masked_img = Mask_UIDs (image_path,possible_UIDs,bounding_boxes,rotation[1],True,SR_Ratio)\n",
    "\n",
    "      return (masked_img,possible_UIDs)\n",
    "\n",
    "  return (None,None)"
   ]
  },
  {
   "cell_type": "code",
   "execution_count": 13,
   "metadata": {
    "id": "LaGcwmHjt196"
   },
   "outputs": [
    {
     "name": "stdout",
     "output_type": "stream",
     "text": [
      "Found UIDs : [255002305082]\n"
     ]
    }
   ],
   "source": [
    "# Test on an Image/PDF\n",
    "\n",
    "input_path = \"Examples/14.pdf\"   # Path to the Input Image/PDF\n",
    "\n",
    "if input_path.split('.')[-1]==\"pdf\":\n",
    "    \n",
    "    pages = convert_from_path(input_path, 300)\n",
    "    pages[0].save('pdf2img.jpg', 'JPEG')\n",
    "\n",
    "if input_path.split('.')[-1]==\"pdf\":\n",
    "  masked_img,possible_UIDs = Extract_and_Mask_UIDs('pdf2img.jpg')\n",
    "else:\n",
    "  masked_img,possible_UIDs = Extract_and_Mask_UIDs(input_path)\n",
    "\n",
    "if masked_img!=None and input_path.split('.')[-1]==\"pdf\":\n",
    "    \n",
    "  image = Image.open(masked_img) \n",
    "  pdf_bytes = img2pdf.convert(image.filename) \n",
    "  file = open(input_path.split('/')[-1].split('.')[0]+\"_masked\"+\".pdf\", \"wb\")\n",
    "  masked_img = input_path.split('/')[-1].split('.')[0]+\"_masked\"+\".pdf\" \n",
    "  file.write(pdf_bytes) \n",
    "  image.close() \n",
    "  file.close() \n",
    "\n",
    "if masked_img==None:\n",
    "  print(\"Can't find any UID!\")\n",
    "else:\n",
    "  print(\"Found UIDs : \"+str(possible_UIDs[:,0]))"
   ]
  },
  {
   "cell_type": "code",
   "execution_count": null,
   "metadata": {},
   "outputs": [],
   "source": []
  }
 ],
 "metadata": {
  "accelerator": "GPU",
  "colab": {
   "collapsed_sections": [],
   "name": "Aadhaar_OCR.ipynb",
   "provenance": []
  },
  "kernelspec": {
   "display_name": "Python 3 (ipykernel)",
   "language": "python",
   "name": "python3"
  },
  "language_info": {
   "codemirror_mode": {
    "name": "ipython",
    "version": 3
   },
   "file_extension": ".py",
   "mimetype": "text/x-python",
   "name": "python",
   "nbconvert_exporter": "python",
   "pygments_lexer": "ipython3",
   "version": "3.9.7"
  }
 },
 "nbformat": 4,
 "nbformat_minor": 1
}
